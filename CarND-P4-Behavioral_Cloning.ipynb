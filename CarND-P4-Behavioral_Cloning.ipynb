{
 "cells": [
  {
   "cell_type": "markdown",
   "metadata": {},
   "source": [
    "\n",
    "# Self-Driving Car Engineer Nanodegree\n",
    "## Project 4: (Deep Learning) Driving Behavioral Cloning\n",
    "\n",
    "In this project, I used what I've learned about deep neural networks and convolutional neural networks to clone driving behavior. I trained, validated and tested a model using Keras. The model will output a steering angle to an autonomous vehicle.\n",
    "\n",
    "#### DEPENDENCIES:\n",
    "pip install \"python-socketio[client]\"  \n",
    "sudo python3 -m pip install eventlet  \n",
    "sudo python3 -m pip install flask  \n",
    "\n",
    "#### TODO:\n",
    "Data augmentation  \n",
    "draw loss"
   ]
  },
  {
   "cell_type": "code",
   "execution_count": 1,
   "metadata": {},
   "outputs": [
    {
     "name": "stderr",
     "output_type": "stream",
     "text": [
      "Using TensorFlow backend.\n"
     ]
    }
   ],
   "source": [
    "# Importing useful packages\n",
    "\n",
    "from utils import load_dataset, plot_data_distribution\n",
    "from utils import create_video, reproduce_dataset\n",
    "\n",
    "from keras.models import Sequential, Model\n",
    "from keras.layers import Flatten, Dense, Lambda, Cropping2D\n",
    "from keras.layers.convolutional import Convolution2D\n",
    "from keras.layers.pooling import MaxPooling2D\n",
    "\n",
    "import matplotlib.pyplot as plt\n",
    "import numpy as np\n"
   ]
  },
  {
   "cell_type": "markdown",
   "metadata": {},
   "source": [
    "---\n",
    "## Step 1: Dataset Loading, Summary and Exploration\n",
    "\n",
    "Te data is a dictionary with 4 key/value pairs:\n",
    "\n",
    "- `'features'` is a 4D array containing raw pixel data of car's cameras\n",
    "- `'y_train'` is a 1D array containing the stering value"
   ]
  },
  {
   "cell_type": "code",
   "execution_count": 2,
   "metadata": {},
   "outputs": [],
   "source": [
    "# Hyper Parameters\n",
    "DOWN_LIMIT = 20 # Down Horizontal limits to crop dataset\n",
    "UP_LIMIT = 65 # Up Horizontal limits to crop dataset\n",
    "CORRECTION = 0.2 # Correction factor for stearing angles\n"
   ]
  },
  {
   "cell_type": "markdown",
   "metadata": {},
   "source": [
    "### Dataset Loading and Basic Summay"
   ]
  },
  {
   "cell_type": "code",
   "execution_count": 17,
   "metadata": {},
   "outputs": [
    {
     "name": "stdout",
     "output_type": "stream",
     "text": [
      "Number of training samples: 4835\n",
      "Shape of training samples:(160, 320, 3)\n"
     ]
    },
    {
     "data": {
      "image/png": "[encoded data removed]",
      "text/plain": [
       "<Figure size 1080x360 with 1 Axes>"
      ]
     },
     "metadata": {},
     "output_type": "display_data"
    }
   ],
   "source": [
    "# Load dataset\n",
    "dataset_path = os.path.join(\"self-driving-data-capture/stage_1_03312019\", \"driving_log.csv\")\n",
    "# dataset_path = os.path.join(\"self-driving-data-capture/stage_1_zig_zag_03312019\", \"driving_log.csv\")\n",
    "# dataset_path = os.path.join(\"self-driving-data-capture/stage_2_03312019\", \"driving_log.csv\")\n",
    "X_train_c, X_train_l, X_train_r, y_train = load_dataset(dataset_path)\n",
    "src_shape = X_train_c.shape[1:] # Image shape\n",
    "\n",
    "# Print dataset information\n",
    "print(\"Number of training samples: {}\".format(len(X_train_c))) # Number of training examples\n",
    "print(\"Shape of training samples:{}\".format(src_shape)) # Samples shape\n",
    "\n",
    "# Plot dataset distribution\n",
    "plot_data_distribution(y_train, scfc=30)\n"
   ]
  },
  {
   "cell_type": "markdown",
   "metadata": {},
   "source": [
    "### Exploratory Visualization of the Dataset"
   ]
  },
  {
   "cell_type": "code",
   "execution_count": 7,
   "metadata": {},
   "outputs": [],
   "source": [
    "# Create videos with current datasets\n",
    "create_video(X_train_c, \"dataset_videos\", \"03302019_center_camera.mp4\")\n",
    "create_video(X_train_l, \"dataset_videos\", \"03302019_left_camera.mp4\")\n",
    "create_video(X_train_r, \"dataset_videos\", \"03302019_right_camera.mp4\")\n"
   ]
  },
  {
   "cell_type": "code",
   "execution_count": 8,
   "metadata": {},
   "outputs": [],
   "source": [
    "# Concatenate cameras videos and reproduce\n",
    "X_train = np.asarray([np.concatenate(img, axis = 0) for img in zip(X_train_r, X_train_c, X_train_l)])\n",
    "reproduce_dataset(X_train_c, fps=30, loop=True, sc_fc=1.5, up_limit=UP_LIMIT, down_limit=DOWN_LIMIT) # A: Stop video - Q: Quit\n"
   ]
  },
  {
   "cell_type": "markdown",
   "metadata": {},
   "source": [
    "### Data Augmentation:  Data Set Pre-processing"
   ]
  },
  {
   "cell_type": "code",
   "execution_count": null,
   "metadata": {},
   "outputs": [],
   "source": []
  },
  {
   "cell_type": "markdown",
   "metadata": {},
   "source": [
    "## Step 2: Designing, Training and Testing a Model Architecture"
   ]
  },
  {
   "cell_type": "markdown",
   "metadata": {},
   "source": [
    "### Data Pre-processing"
   ]
  },
  {
   "cell_type": "code",
   "execution_count": null,
   "metadata": {},
   "outputs": [],
   "source": []
  },
  {
   "cell_type": "markdown",
   "metadata": {},
   "source": [
    "### Model Training"
   ]
  },
  {
   "cell_type": "code",
   "execution_count": null,
   "metadata": {
    "scrolled": true
   },
   "outputs": [],
   "source": [
    "model = Sequential()\n",
    "model.add(Lambda(lambda x: x/255.0 - 0.5, input_shape=src_shape))\n",
    "model.add(Cropping2D(cropping=((DOWN_LIMIT, UP_LIMIT),(0, 0))))\n",
    "model.add(Convolution2D(24, 5, 5, subsample=(2,2), activation=\"relu\"))\n",
    "model.add(Convolution2D(36, 5, 5, subsample=(2,2), activation=\"relu\"))\n",
    "model.add(Convolution2D(48, 5, 5, subsample=(2,2), activation=\"relu\"))\n",
    "model.add(Convolution2D(64, 3, 3, activation=\"relu\"))\n",
    "model.add(Convolution2D(64, 3, 3, activation=\"relu\"))\n",
    "# model.add(MaxPooling2D())\n",
    "model.add(Flatten())\n",
    "model.add(Dense(100))\n",
    "model.add(Dense(50))\n",
    "model.add(Dense(10))\n",
    "model.add(Dense(1))\n",
    "model.compile(loss=\"mse\", optimizer=\"adam\")\n",
    "model.fit(X_train_c, y_train, validation_split=0.2, shuffle=True, nb_epoch=5, verbose=1)\n",
    "model.save('model/behavioral_model.h5')\n"
   ]
  },
  {
   "cell_type": "markdown",
   "metadata": {},
   "source": [
    "### Plot Testing Results"
   ]
  },
  {
   "cell_type": "code",
   "execution_count": null,
   "metadata": {},
   "outputs": [],
   "source": [
    "\n"
   ]
  },
  {
   "cell_type": "markdown",
   "metadata": {},
   "source": [
    "### Run Simulaion Model and SImulation Enviroment"
   ]
  },
  {
   "cell_type": "code",
   "execution_count": null,
   "metadata": {},
   "outputs": [],
   "source": [
    "from multiprocessing import Pool \n",
    "import os\n",
    "\n",
    "def run_process(process):                                                             \n",
    "    os.system('{}'.format(process)) \n",
    "     7\n",
    "processes = (\n",
    "    \"clear && {}\".format(os.path.join(os.getcwd(), \"beta_simulator_linux\", \"beta_simulator.x86_64\")),\n",
    "    \"clear && termdown 10 && clear && python3 {} {} {}\".format(\n",
    "        os.path.join(os.getcwd(), \"drive.py\"), \n",
    "        os.path.join(os.getcwd(), \"model\", \"behavioral_model.h5\"), \n",
    "        os.path.join(os.getcwd(), \"model_resuts\")))\n",
    "pool = Pool(processes=len(processes))                                                        \n",
    "pool.map(run_process, processes)\n"
   ]
  },
  {
   "cell_type": "code",
   "execution_count": 13,
   "metadata": {},
   "outputs": [
    {
     "data": {
      "text/plain": [
       "0"
      ]
     },
     "execution_count": 13,
     "metadata": {},
     "output_type": "execute_result"
    }
   ],
   "source": [
    "# Run only simulation enviroment\n",
    "import os\n",
    "os.system('{}'.format(os.path.join(os.getcwd(), \"beta_simulator_linux\", \"beta_simulator.x86_64\"))) "
   ]
  },
  {
   "cell_type": "code",
   "execution_count": null,
   "metadata": {},
   "outputs": [],
   "source": []
  }
 ],
 "metadata": {
  "kernelspec": {
   "display_name": "Python 3",
   "language": "python",
   "name": "python3"
  },
  "language_info": {
   "codemirror_mode": {
    "name": "ipython",
    "version": 3
   },
   "file_extension": ".py",
   "mimetype": "text/x-python",
   "name": "python",
   "nbconvert_exporter": "python",
   "pygments_lexer": "ipython3",
   "version": "3.5.2"
  }
 },
 "nbformat": 4,
 "nbformat_minor": 2
}
